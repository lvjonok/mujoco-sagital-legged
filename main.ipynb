{
 "cells": [
  {
   "cell_type": "code",
   "execution_count": 1,
   "metadata": {},
   "outputs": [],
   "source": [
    "import mujoco"
   ]
  },
  {
   "cell_type": "code",
   "execution_count": 2,
   "metadata": {},
   "outputs": [],
   "source": [
    "urdfpath = \"b1/b1.urdf\"\n",
    "xmlpath = \"b1/b1.xml\"\n",
    "\n",
    "# load model possibly URDF\n",
    "mujoco_model = mujoco.MjModel.from_xml_path(xmlpath)"
   ]
  },
  {
   "cell_type": "code",
   "execution_count": 3,
   "metadata": {},
   "outputs": [
    {
     "data": {
      "text/plain": [
       "(11, 11, 8)"
      ]
     },
     "execution_count": 3,
     "metadata": {},
     "output_type": "execute_result"
    }
   ],
   "source": [
    "mujoco_model.nq, mujoco_model.nv, mujoco_model.nu"
   ]
  },
  {
   "cell_type": "code",
   "execution_count": 4,
   "metadata": {},
   "outputs": [
    {
     "name": "stdout",
     "output_type": "stream",
     "text": [
      "0 world_joint_TX\n",
      "1 world_joint_TY\n",
      "2 world_joint_RZ\n",
      "3 FR_thigh_joint\n",
      "4 FR_calf_joint\n",
      "5 FL_thigh_joint\n",
      "6 FL_calf_joint\n",
      "7 RR_thigh_joint\n",
      "8 RR_calf_joint\n",
      "9 RL_thigh_joint\n",
      "10 RL_calf_joint\n"
     ]
    }
   ],
   "source": [
    "for idx in range(mujoco_model.njnt):\n",
    "    print(idx, mujoco_model.joint(idx).name)"
   ]
  },
  {
   "cell_type": "code",
   "execution_count": 5,
   "metadata": {},
   "outputs": [],
   "source": [
    "import pinocchio as pin\n",
    "\n",
    "pin_model = pin.buildModelFromUrdf(urdfpath)"
   ]
  },
  {
   "cell_type": "code",
   "execution_count": 7,
   "metadata": {},
   "outputs": [
    {
     "data": {
      "text/plain": [
       "(12, 11)"
      ]
     },
     "execution_count": 7,
     "metadata": {},
     "output_type": "execute_result"
    }
   ],
   "source": [
    "pin_model.nq, pin_model.nv"
   ]
  },
  {
   "cell_type": "code",
   "execution_count": 8,
   "metadata": {},
   "outputs": [
    {
     "name": "stdout",
     "output_type": "stream",
     "text": [
      "0 universe\n",
      "1 floating_base\n",
      "2 FL_thigh_joint\n",
      "3 FL_calf_joint\n",
      "4 FR_thigh_joint\n",
      "5 FR_calf_joint\n",
      "6 RL_thigh_joint\n",
      "7 RL_calf_joint\n",
      "8 RR_thigh_joint\n",
      "9 RR_calf_joint\n"
     ]
    }
   ],
   "source": [
    "for idx, name in enumerate(pin_model.names):\n",
    "    print(idx, name)"
   ]
  }
 ],
 "metadata": {
  "kernelspec": {
   "display_name": "venv",
   "language": "python",
   "name": "python3"
  },
  "language_info": {
   "codemirror_mode": {
    "name": "ipython",
    "version": 3
   },
   "file_extension": ".py",
   "mimetype": "text/x-python",
   "name": "python",
   "nbconvert_exporter": "python",
   "pygments_lexer": "ipython3",
   "version": "3.10.12"
  }
 },
 "nbformat": 4,
 "nbformat_minor": 2
}
